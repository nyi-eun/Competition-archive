{
 "cells": [
  {
   "cell_type": "code",
   "execution_count": 1,
   "id": "7d8551da",
   "metadata": {},
   "outputs": [],
   "source": [
    "# Base\n",
    "import pandas as pd\n",
    "import numpy as np\n",
    "\n",
    "# Preprocessing\n",
    "from sklearn.model_selection import train_test_split\n",
    "from sklearn.model_selection import StratifiedKFold\n",
    "from sklearn.model_selection import cross_val_score\n",
    "\n",
    "# Scoring\n",
    "from sklearn.metrics import f1_score\n",
    "\n",
    "# Model\n",
    "from catboost import CatBoostClassifier\n",
    "from lightgbm import LGBMClassifier\n",
    "from sklearn.ensemble import RandomForestClassifier"
   ]
  },
  {
   "cell_type": "markdown",
   "id": "3f7d0fa3",
   "metadata": {},
   "source": [
    "# Employee"
   ]
  },
  {
   "cell_type": "markdown",
   "id": "482bd37e",
   "metadata": {},
   "source": [
    "#### Data load & target setting"
   ]
  },
  {
   "cell_type": "code",
   "execution_count": 2,
   "id": "d3199483",
   "metadata": {
    "scrolled": true
   },
   "outputs": [],
   "source": [
    "train_emp = pd.read_csv('data/employee_feature_train.csv').iloc[:,1:]\n",
    "test_emp = pd.read_csv('data/employee_feature_test.csv').iloc[:,1:]\n",
    "target_emp = train_emp.prime_yn\n",
    "\n",
    "train_emp.drop(columns=['prime_yn'], inplace=True)\n",
    "test_emp.drop(columns=['prime_yn'], inplace=True)"
   ]
  },
  {
   "cell_type": "markdown",
   "id": "86e392d3",
   "metadata": {},
   "source": [
    "#### Categorycal Feature List Generate"
   ]
  },
  {
   "cell_type": "code",
   "execution_count": 3,
   "id": "fedfd0dc",
   "metadata": {},
   "outputs": [],
   "source": [
    "cat_features_emp = train_emp.select_dtypes('object').columns.tolist()\n",
    "num_features_emp = train_emp.select_dtypes('float').columns.tolist() + train_emp.select_dtypes('int').columns.tolist()"
   ]
  },
  {
   "cell_type": "markdown",
   "id": "3f1838a8",
   "metadata": {},
   "source": [
    "#### Train & Validation Data set Generate"
   ]
  },
  {
   "cell_type": "code",
   "execution_count": 4,
   "id": "1bbd18d6",
   "metadata": {},
   "outputs": [],
   "source": [
    "X_train_emp, X_val_emp, y_train_emp, y_val_emp = train_test_split(train_emp, target_emp, test_size = 0.3, \n",
    "                                                                  random_state = 23, stratify = target_emp)"
   ]
  },
  {
   "cell_type": "markdown",
   "id": "8d5adba9",
   "metadata": {},
   "source": [
    "## CatBoost"
   ]
  },
  {
   "cell_type": "markdown",
   "id": "0e42806b",
   "metadata": {},
   "source": [
    "#### Training"
   ]
  },
  {
   "cell_type": "code",
   "execution_count": 5,
   "id": "a1f3b301",
   "metadata": {},
   "outputs": [
    {
     "name": "stdout",
     "output_type": "stream",
     "text": [
      "X_train_emp의 cross validation 점수 : 0.8784189354966443\n"
     ]
    }
   ],
   "source": [
    "catb_emp = CatBoostClassifier(cat_features=cat_features_emp, random_state=0, silent=True)\n",
    "skf = StratifiedKFold(n_splits = 5, shuffle = True, random_state = 17)\n",
    "score = cross_val_score(catb_emp, X_train_emp, y_train_emp, scoring = 'f1', cv = skf, n_jobs = -1)\n",
    "print(f'X_train_emp의 cross validation 점수 : {np.mean(score)}')"
   ]
  },
  {
   "cell_type": "markdown",
   "id": "7e81f64f",
   "metadata": {},
   "source": [
    "#### Validation Score"
   ]
  },
  {
   "cell_type": "code",
   "execution_count": 6,
   "id": "df3ce464",
   "metadata": {},
   "outputs": [
    {
     "name": "stdout",
     "output_type": "stream",
     "text": [
      "X_val_emp 예측 점수 : 0.8853735091023227\n"
     ]
    }
   ],
   "source": [
    "catb_emp.fit(X_train_emp, y_train_emp)\n",
    "catb_emp_pred = catb_emp.predict(X_val_emp)\n",
    "print(f'X_val_emp 예측 점수 : {f1_score(y_val_emp, catb_emp_pred)}')"
   ]
  },
  {
   "cell_type": "markdown",
   "id": "44621a3b",
   "metadata": {},
   "source": [
    "#### Retraining & Prediction"
   ]
  },
  {
   "cell_type": "code",
   "execution_count": 7,
   "id": "983d13ad",
   "metadata": {},
   "outputs": [
    {
     "data": {
      "text/html": [
       "<div>\n",
       "<style scoped>\n",
       "    .dataframe tbody tr th:only-of-type {\n",
       "        vertical-align: middle;\n",
       "    }\n",
       "\n",
       "    .dataframe tbody tr th {\n",
       "        vertical-align: top;\n",
       "    }\n",
       "\n",
       "    .dataframe thead th {\n",
       "        text-align: right;\n",
       "    }\n",
       "</style>\n",
       "<table border=\"1\" class=\"dataframe\">\n",
       "  <thead>\n",
       "    <tr style=\"text-align: right;\">\n",
       "      <th></th>\n",
       "      <th>prime_yn</th>\n",
       "    </tr>\n",
       "  </thead>\n",
       "  <tbody>\n",
       "    <tr>\n",
       "      <th>0</th>\n",
       "      <td>1</td>\n",
       "    </tr>\n",
       "    <tr>\n",
       "      <th>1</th>\n",
       "      <td>1</td>\n",
       "    </tr>\n",
       "    <tr>\n",
       "      <th>2</th>\n",
       "      <td>1</td>\n",
       "    </tr>\n",
       "    <tr>\n",
       "      <th>3</th>\n",
       "      <td>1</td>\n",
       "    </tr>\n",
       "    <tr>\n",
       "      <th>4</th>\n",
       "      <td>1</td>\n",
       "    </tr>\n",
       "    <tr>\n",
       "      <th>...</th>\n",
       "      <td>...</td>\n",
       "    </tr>\n",
       "    <tr>\n",
       "      <th>8041</th>\n",
       "      <td>1</td>\n",
       "    </tr>\n",
       "    <tr>\n",
       "      <th>8042</th>\n",
       "      <td>0</td>\n",
       "    </tr>\n",
       "    <tr>\n",
       "      <th>8043</th>\n",
       "      <td>1</td>\n",
       "    </tr>\n",
       "    <tr>\n",
       "      <th>8044</th>\n",
       "      <td>0</td>\n",
       "    </tr>\n",
       "    <tr>\n",
       "      <th>8045</th>\n",
       "      <td>1</td>\n",
       "    </tr>\n",
       "  </tbody>\n",
       "</table>\n",
       "<p>8046 rows × 1 columns</p>\n",
       "</div>"
      ],
      "text/plain": [
       "      prime_yn\n",
       "0            1\n",
       "1            1\n",
       "2            1\n",
       "3            1\n",
       "4            1\n",
       "...        ...\n",
       "8041         1\n",
       "8042         0\n",
       "8043         1\n",
       "8044         0\n",
       "8045         1\n",
       "\n",
       "[8046 rows x 1 columns]"
      ]
     },
     "execution_count": 7,
     "metadata": {},
     "output_type": "execute_result"
    }
   ],
   "source": [
    "catb_emp_model = CatBoostClassifier(cat_features=cat_features_emp, random_state=0, silent=True)\n",
    "catb_emp_model.fit(train_emp, target_emp)\n",
    "catb_emp_pred = catb_emp_model.predict(test_emp)\n",
    "\n",
    "catb_emp_pred_df = pd.DataFrame({'prime_yn' : catb_emp_pred}); catb_emp_pred_df"
   ]
  },
  {
   "cell_type": "markdown",
   "id": "eb193a1a",
   "metadata": {},
   "source": [
    "## LGBM"
   ]
  },
  {
   "cell_type": "markdown",
   "id": "384013d4",
   "metadata": {},
   "source": [
    "#### Training"
   ]
  },
  {
   "cell_type": "code",
   "execution_count": 8,
   "id": "93d701ff",
   "metadata": {},
   "outputs": [
    {
     "name": "stdout",
     "output_type": "stream",
     "text": [
      "X_train_emp의 cross validation 점수 : 0.8733659787742164\n"
     ]
    }
   ],
   "source": [
    "lgbm_emp = LGBMClassifier(random_state=0)\n",
    "skf = StratifiedKFold(n_splits = 5, shuffle = True, random_state = 17)\n",
    "score = cross_val_score(lgbm_emp, X_train_emp[num_features_emp], y_train_emp, scoring = 'f1', cv = skf, n_jobs = -1)\n",
    "print(f'X_train_emp의 cross validation 점수 : {np.mean(score)}')"
   ]
  },
  {
   "cell_type": "markdown",
   "id": "54390792",
   "metadata": {},
   "source": [
    "#### Validation Score"
   ]
  },
  {
   "cell_type": "code",
   "execution_count": 9,
   "id": "65ca351d",
   "metadata": {
    "scrolled": true
   },
   "outputs": [
    {
     "name": "stdout",
     "output_type": "stream",
     "text": [
      "X_val_emp 예측 점수 : 0.8744929317762754\n"
     ]
    }
   ],
   "source": [
    "lgbm_emp.fit(X_train_emp[num_features_emp], y_train_emp)\n",
    "lgbm_emp_pred = lgbm_emp.predict(X_val_emp[num_features_emp])\n",
    "print(f'X_val_emp 예측 점수 : {f1_score(y_val_emp, lgbm_emp_pred)}')"
   ]
  },
  {
   "cell_type": "markdown",
   "id": "f90bad90",
   "metadata": {},
   "source": [
    "#### Retraining & Prediction"
   ]
  },
  {
   "cell_type": "code",
   "execution_count": 10,
   "id": "d27127f9",
   "metadata": {
    "collapsed": true
   },
   "outputs": [
    {
     "data": {
      "text/html": [
       "<div>\n",
       "<style scoped>\n",
       "    .dataframe tbody tr th:only-of-type {\n",
       "        vertical-align: middle;\n",
       "    }\n",
       "\n",
       "    .dataframe tbody tr th {\n",
       "        vertical-align: top;\n",
       "    }\n",
       "\n",
       "    .dataframe thead th {\n",
       "        text-align: right;\n",
       "    }\n",
       "</style>\n",
       "<table border=\"1\" class=\"dataframe\">\n",
       "  <thead>\n",
       "    <tr style=\"text-align: right;\">\n",
       "      <th></th>\n",
       "      <th>prime_yn</th>\n",
       "    </tr>\n",
       "  </thead>\n",
       "  <tbody>\n",
       "    <tr>\n",
       "      <th>0</th>\n",
       "      <td>1</td>\n",
       "    </tr>\n",
       "    <tr>\n",
       "      <th>1</th>\n",
       "      <td>1</td>\n",
       "    </tr>\n",
       "    <tr>\n",
       "      <th>2</th>\n",
       "      <td>1</td>\n",
       "    </tr>\n",
       "    <tr>\n",
       "      <th>3</th>\n",
       "      <td>1</td>\n",
       "    </tr>\n",
       "    <tr>\n",
       "      <th>4</th>\n",
       "      <td>1</td>\n",
       "    </tr>\n",
       "    <tr>\n",
       "      <th>...</th>\n",
       "      <td>...</td>\n",
       "    </tr>\n",
       "    <tr>\n",
       "      <th>8041</th>\n",
       "      <td>1</td>\n",
       "    </tr>\n",
       "    <tr>\n",
       "      <th>8042</th>\n",
       "      <td>0</td>\n",
       "    </tr>\n",
       "    <tr>\n",
       "      <th>8043</th>\n",
       "      <td>1</td>\n",
       "    </tr>\n",
       "    <tr>\n",
       "      <th>8044</th>\n",
       "      <td>1</td>\n",
       "    </tr>\n",
       "    <tr>\n",
       "      <th>8045</th>\n",
       "      <td>1</td>\n",
       "    </tr>\n",
       "  </tbody>\n",
       "</table>\n",
       "<p>8046 rows × 1 columns</p>\n",
       "</div>"
      ],
      "text/plain": [
       "      prime_yn\n",
       "0            1\n",
       "1            1\n",
       "2            1\n",
       "3            1\n",
       "4            1\n",
       "...        ...\n",
       "8041         1\n",
       "8042         0\n",
       "8043         1\n",
       "8044         1\n",
       "8045         1\n",
       "\n",
       "[8046 rows x 1 columns]"
      ]
     },
     "execution_count": 10,
     "metadata": {},
     "output_type": "execute_result"
    }
   ],
   "source": [
    "lgbm_emp_model = LGBMClassifier(random_state=0)\n",
    "lgbm_emp_model.fit(train_emp[num_features_emp], target_emp)\n",
    "lgbm_emp_pred = lgbm_emp_model.predict(test_emp[num_features_emp])\n",
    "\n",
    "lgbm_emp_pred_df = pd.DataFrame({'prime_yn':lgbm_emp_pred}); lgbm_emp_pred_df"
   ]
  },
  {
   "cell_type": "markdown",
   "id": "862dd172",
   "metadata": {},
   "source": [
    "## RandomForest"
   ]
  },
  {
   "cell_type": "markdown",
   "id": "0a598c0e",
   "metadata": {},
   "source": [
    "#### Training"
   ]
  },
  {
   "cell_type": "code",
   "execution_count": 11,
   "id": "dbcbeb39",
   "metadata": {
    "scrolled": false
   },
   "outputs": [
    {
     "name": "stdout",
     "output_type": "stream",
     "text": [
      "X_train_emp의 cross validation 점수 : 0.8445762328182577\n"
     ]
    }
   ],
   "source": [
    "rf_emp = RandomForestClassifier(random_state=0)\n",
    "skf = StratifiedKFold(n_splits = 5, shuffle = True, random_state = 17)\n",
    "score = cross_val_score(rf_emp, X_train_emp[num_features_emp], y_train_emp, scoring = 'f1', cv = skf, n_jobs = -1)\n",
    "print(f'X_train_emp의 cross validation 점수 : {np.mean(score)}')"
   ]
  },
  {
   "cell_type": "markdown",
   "id": "b3280f20",
   "metadata": {},
   "source": [
    "#### Validation Score"
   ]
  },
  {
   "cell_type": "code",
   "execution_count": 12,
   "id": "288ea850",
   "metadata": {},
   "outputs": [
    {
     "name": "stdout",
     "output_type": "stream",
     "text": [
      "X_val_emp 예측 점수 : 0.865679264555669\n"
     ]
    }
   ],
   "source": [
    "rf_emp.fit(X_train_emp[num_features_emp], y_train_emp)\n",
    "rf_emp_pred = rf_emp.predict(X_val_emp[num_features_emp])\n",
    "print(f'X_val_emp 예측 점수 : {f1_score(y_val_emp, rf_emp_pred)}')"
   ]
  },
  {
   "cell_type": "markdown",
   "id": "6cef9761",
   "metadata": {},
   "source": [
    "#### Retraining & Prediction"
   ]
  },
  {
   "cell_type": "code",
   "execution_count": 13,
   "id": "88e17b91",
   "metadata": {},
   "outputs": [
    {
     "data": {
      "text/html": [
       "<div>\n",
       "<style scoped>\n",
       "    .dataframe tbody tr th:only-of-type {\n",
       "        vertical-align: middle;\n",
       "    }\n",
       "\n",
       "    .dataframe tbody tr th {\n",
       "        vertical-align: top;\n",
       "    }\n",
       "\n",
       "    .dataframe thead th {\n",
       "        text-align: right;\n",
       "    }\n",
       "</style>\n",
       "<table border=\"1\" class=\"dataframe\">\n",
       "  <thead>\n",
       "    <tr style=\"text-align: right;\">\n",
       "      <th></th>\n",
       "      <th>prime_yn</th>\n",
       "    </tr>\n",
       "  </thead>\n",
       "  <tbody>\n",
       "    <tr>\n",
       "      <th>0</th>\n",
       "      <td>1</td>\n",
       "    </tr>\n",
       "    <tr>\n",
       "      <th>1</th>\n",
       "      <td>1</td>\n",
       "    </tr>\n",
       "    <tr>\n",
       "      <th>2</th>\n",
       "      <td>1</td>\n",
       "    </tr>\n",
       "    <tr>\n",
       "      <th>3</th>\n",
       "      <td>1</td>\n",
       "    </tr>\n",
       "    <tr>\n",
       "      <th>4</th>\n",
       "      <td>1</td>\n",
       "    </tr>\n",
       "    <tr>\n",
       "      <th>...</th>\n",
       "      <td>...</td>\n",
       "    </tr>\n",
       "    <tr>\n",
       "      <th>8041</th>\n",
       "      <td>1</td>\n",
       "    </tr>\n",
       "    <tr>\n",
       "      <th>8042</th>\n",
       "      <td>0</td>\n",
       "    </tr>\n",
       "    <tr>\n",
       "      <th>8043</th>\n",
       "      <td>1</td>\n",
       "    </tr>\n",
       "    <tr>\n",
       "      <th>8044</th>\n",
       "      <td>1</td>\n",
       "    </tr>\n",
       "    <tr>\n",
       "      <th>8045</th>\n",
       "      <td>1</td>\n",
       "    </tr>\n",
       "  </tbody>\n",
       "</table>\n",
       "<p>8046 rows × 1 columns</p>\n",
       "</div>"
      ],
      "text/plain": [
       "      prime_yn\n",
       "0            1\n",
       "1            1\n",
       "2            1\n",
       "3            1\n",
       "4            1\n",
       "...        ...\n",
       "8041         1\n",
       "8042         0\n",
       "8043         1\n",
       "8044         1\n",
       "8045         1\n",
       "\n",
       "[8046 rows x 1 columns]"
      ]
     },
     "execution_count": 13,
     "metadata": {},
     "output_type": "execute_result"
    }
   ],
   "source": [
    "rf_emp_model = RandomForestClassifier(random_state=0)\n",
    "rf_emp_model.fit(train_emp[num_features_emp], target_emp)\n",
    "rf_emp_pred = rf_emp_model.predict(test_emp[num_features_emp])\n",
    "\n",
    "rf_emp_pred_df = pd.DataFrame({'prime_yn':rf_emp_pred}); rf_emp_pred_df"
   ]
  },
  {
   "cell_type": "markdown",
   "id": "cfd6d405",
   "metadata": {},
   "source": [
    "# Non Employee"
   ]
  },
  {
   "cell_type": "markdown",
   "id": "48436f0f",
   "metadata": {},
   "source": [
    "#### Data load & target setting"
   ]
  },
  {
   "cell_type": "code",
   "execution_count": 14,
   "id": "b662470e",
   "metadata": {},
   "outputs": [],
   "source": [
    "train_nemp = pd.read_csv('data/nemployee_feature_train.csv').iloc[:,1:]\n",
    "test_nemp = pd.read_csv('data/nemployee_feature_test.csv').iloc[:,1:]\n",
    "target_nemp = train_nemp.prime_yn\n",
    "\n",
    "train_nemp.drop(columns=['prime_yn'], inplace=True)\n",
    "test_nemp.drop(columns=['prime_yn'], inplace=True)"
   ]
  },
  {
   "cell_type": "markdown",
   "id": "b5110031",
   "metadata": {},
   "source": [
    "#### Categorycal Feature List Generate"
   ]
  },
  {
   "cell_type": "code",
   "execution_count": 15,
   "id": "6f9704f1",
   "metadata": {},
   "outputs": [],
   "source": [
    "cat_features_nemp = train_nemp.select_dtypes('object').columns.tolist()\n",
    "num_features_nemp = train_nemp.select_dtypes('float').columns.tolist() + train_nemp.select_dtypes('int').columns.tolist()"
   ]
  },
  {
   "cell_type": "markdown",
   "id": "a306f53f",
   "metadata": {},
   "source": [
    "#### Train & Validation Data set Generate"
   ]
  },
  {
   "cell_type": "code",
   "execution_count": 16,
   "id": "0399427d",
   "metadata": {},
   "outputs": [],
   "source": [
    "X_train_nemp, X_val_nemp, y_train_nemp, y_val_nemp = train_test_split(train_nemp, target_nemp, test_size = 0.3,\n",
    "                                                                      random_state = 23, stratify = target_nemp)"
   ]
  },
  {
   "cell_type": "markdown",
   "id": "6e043231",
   "metadata": {},
   "source": [
    "## CatBoost"
   ]
  },
  {
   "cell_type": "markdown",
   "id": "e05672c2",
   "metadata": {},
   "source": [
    "#### Training"
   ]
  },
  {
   "cell_type": "code",
   "execution_count": 17,
   "id": "836559cd",
   "metadata": {
    "scrolled": true
   },
   "outputs": [
    {
     "name": "stdout",
     "output_type": "stream",
     "text": [
      "X_train_nemp의 cross validation 점수 : 0.798589429935246\n"
     ]
    }
   ],
   "source": [
    "catb_nemp = CatBoostClassifier(cat_features=cat_features_nemp, random_state=0, silent=True)\n",
    "skf = StratifiedKFold(n_splits = 5, shuffle = True, random_state = 17)\n",
    "score = cross_val_score(catb_nemp, X_train_nemp, y_train_nemp, scoring = 'f1', cv = skf, n_jobs = -1)\n",
    "print(f'X_train_nemp의 cross validation 점수 : {np.mean(score)}')"
   ]
  },
  {
   "cell_type": "markdown",
   "id": "74f16a52",
   "metadata": {},
   "source": [
    "#### Validation Score"
   ]
  },
  {
   "cell_type": "code",
   "execution_count": 18,
   "id": "85c86074",
   "metadata": {},
   "outputs": [
    {
     "name": "stdout",
     "output_type": "stream",
     "text": [
      "X_val_nemp 예측 점수 : 0.8186528497409327\n"
     ]
    }
   ],
   "source": [
    "catb_nemp.fit(X_train_nemp, y_train_nemp)\n",
    "catb_nemp_pred = catb_nemp.predict(X_val_nemp)\n",
    "print(f'X_val_nemp 예측 점수 : {f1_score(y_val_nemp, catb_nemp_pred)}')"
   ]
  },
  {
   "cell_type": "code",
   "execution_count": 19,
   "id": "c48854bb",
   "metadata": {},
   "outputs": [
    {
     "data": {
      "text/html": [
       "<div>\n",
       "<style scoped>\n",
       "    .dataframe tbody tr th:only-of-type {\n",
       "        vertical-align: middle;\n",
       "    }\n",
       "\n",
       "    .dataframe tbody tr th {\n",
       "        vertical-align: top;\n",
       "    }\n",
       "\n",
       "    .dataframe thead th {\n",
       "        text-align: right;\n",
       "    }\n",
       "</style>\n",
       "<table border=\"1\" class=\"dataframe\">\n",
       "  <thead>\n",
       "    <tr style=\"text-align: right;\">\n",
       "      <th></th>\n",
       "      <th>prime_yn</th>\n",
       "    </tr>\n",
       "  </thead>\n",
       "  <tbody>\n",
       "    <tr>\n",
       "      <th>0</th>\n",
       "      <td>1</td>\n",
       "    </tr>\n",
       "    <tr>\n",
       "      <th>1</th>\n",
       "      <td>1</td>\n",
       "    </tr>\n",
       "    <tr>\n",
       "      <th>2</th>\n",
       "      <td>0</td>\n",
       "    </tr>\n",
       "    <tr>\n",
       "      <th>3</th>\n",
       "      <td>1</td>\n",
       "    </tr>\n",
       "    <tr>\n",
       "      <th>4</th>\n",
       "      <td>0</td>\n",
       "    </tr>\n",
       "    <tr>\n",
       "      <th>...</th>\n",
       "      <td>...</td>\n",
       "    </tr>\n",
       "    <tr>\n",
       "      <th>11609</th>\n",
       "      <td>0</td>\n",
       "    </tr>\n",
       "    <tr>\n",
       "      <th>11610</th>\n",
       "      <td>0</td>\n",
       "    </tr>\n",
       "    <tr>\n",
       "      <th>11611</th>\n",
       "      <td>1</td>\n",
       "    </tr>\n",
       "    <tr>\n",
       "      <th>11612</th>\n",
       "      <td>0</td>\n",
       "    </tr>\n",
       "    <tr>\n",
       "      <th>11613</th>\n",
       "      <td>1</td>\n",
       "    </tr>\n",
       "  </tbody>\n",
       "</table>\n",
       "<p>11614 rows × 1 columns</p>\n",
       "</div>"
      ],
      "text/plain": [
       "       prime_yn\n",
       "0             1\n",
       "1             1\n",
       "2             0\n",
       "3             1\n",
       "4             0\n",
       "...         ...\n",
       "11609         0\n",
       "11610         0\n",
       "11611         1\n",
       "11612         0\n",
       "11613         1\n",
       "\n",
       "[11614 rows x 1 columns]"
      ]
     },
     "execution_count": 19,
     "metadata": {},
     "output_type": "execute_result"
    }
   ],
   "source": [
    "catb_nemp_model = CatBoostClassifier(cat_features=cat_features_nemp, random_state=0, silent=True)\n",
    "catb_nemp_model.fit(train_nemp, target_nemp)\n",
    "catb_nemp_pred = catb_nemp_model.predict(test_nemp)\n",
    "\n",
    "catb_nemp_pred_df = pd.DataFrame({'prime_yn' : catb_nemp_pred}); catb_nemp_pred_df"
   ]
  },
  {
   "cell_type": "markdown",
   "id": "65f34323",
   "metadata": {},
   "source": [
    "## LGBM"
   ]
  },
  {
   "cell_type": "markdown",
   "id": "3c970112",
   "metadata": {},
   "source": [
    "#### Training"
   ]
  },
  {
   "cell_type": "code",
   "execution_count": 20,
   "id": "1dc1a051",
   "metadata": {},
   "outputs": [
    {
     "name": "stdout",
     "output_type": "stream",
     "text": [
      "X_train_nemp의 cross validation 점수 : 0.7876092053908408\n"
     ]
    }
   ],
   "source": [
    "lgbm_nemp = LGBMClassifier(random_state=0)\n",
    "skf = StratifiedKFold(n_splits = 5, shuffle = True, random_state = 17)\n",
    "score = cross_val_score(lgbm_nemp, X_train_nemp[num_features_nemp], y_train_nemp, scoring = 'f1', cv = skf, n_jobs = -1)\n",
    "print(f'X_train_nemp의 cross validation 점수 : {np.mean(score)}')"
   ]
  },
  {
   "cell_type": "markdown",
   "id": "70a5992d",
   "metadata": {},
   "source": [
    "#### Validation Score"
   ]
  },
  {
   "cell_type": "code",
   "execution_count": 21,
   "id": "745bf60e",
   "metadata": {
    "scrolled": true
   },
   "outputs": [
    {
     "name": "stdout",
     "output_type": "stream",
     "text": [
      "X_val_nemp 예측 점수 : 0.7944703061080547\n"
     ]
    }
   ],
   "source": [
    "lgbm_nemp.fit(X_train_nemp[num_features_nemp], y_train_nemp)\n",
    "lgbm_nemp_pred = lgbm_nemp.predict(X_val_nemp[num_features_nemp])\n",
    "print(f'X_val_nemp 예측 점수 : {f1_score(y_val_nemp, lgbm_nemp_pred)}')"
   ]
  },
  {
   "cell_type": "markdown",
   "id": "b779037f",
   "metadata": {},
   "source": [
    "#### Retraining & Prediction"
   ]
  },
  {
   "cell_type": "code",
   "execution_count": 22,
   "id": "8dd96346",
   "metadata": {},
   "outputs": [
    {
     "data": {
      "text/html": [
       "<div>\n",
       "<style scoped>\n",
       "    .dataframe tbody tr th:only-of-type {\n",
       "        vertical-align: middle;\n",
       "    }\n",
       "\n",
       "    .dataframe tbody tr th {\n",
       "        vertical-align: top;\n",
       "    }\n",
       "\n",
       "    .dataframe thead th {\n",
       "        text-align: right;\n",
       "    }\n",
       "</style>\n",
       "<table border=\"1\" class=\"dataframe\">\n",
       "  <thead>\n",
       "    <tr style=\"text-align: right;\">\n",
       "      <th></th>\n",
       "      <th>prime_yn</th>\n",
       "    </tr>\n",
       "  </thead>\n",
       "  <tbody>\n",
       "    <tr>\n",
       "      <th>0</th>\n",
       "      <td>0</td>\n",
       "    </tr>\n",
       "    <tr>\n",
       "      <th>1</th>\n",
       "      <td>0</td>\n",
       "    </tr>\n",
       "    <tr>\n",
       "      <th>2</th>\n",
       "      <td>0</td>\n",
       "    </tr>\n",
       "    <tr>\n",
       "      <th>3</th>\n",
       "      <td>1</td>\n",
       "    </tr>\n",
       "    <tr>\n",
       "      <th>4</th>\n",
       "      <td>0</td>\n",
       "    </tr>\n",
       "    <tr>\n",
       "      <th>...</th>\n",
       "      <td>...</td>\n",
       "    </tr>\n",
       "    <tr>\n",
       "      <th>11609</th>\n",
       "      <td>0</td>\n",
       "    </tr>\n",
       "    <tr>\n",
       "      <th>11610</th>\n",
       "      <td>0</td>\n",
       "    </tr>\n",
       "    <tr>\n",
       "      <th>11611</th>\n",
       "      <td>0</td>\n",
       "    </tr>\n",
       "    <tr>\n",
       "      <th>11612</th>\n",
       "      <td>0</td>\n",
       "    </tr>\n",
       "    <tr>\n",
       "      <th>11613</th>\n",
       "      <td>0</td>\n",
       "    </tr>\n",
       "  </tbody>\n",
       "</table>\n",
       "<p>11614 rows × 1 columns</p>\n",
       "</div>"
      ],
      "text/plain": [
       "       prime_yn\n",
       "0             0\n",
       "1             0\n",
       "2             0\n",
       "3             1\n",
       "4             0\n",
       "...         ...\n",
       "11609         0\n",
       "11610         0\n",
       "11611         0\n",
       "11612         0\n",
       "11613         0\n",
       "\n",
       "[11614 rows x 1 columns]"
      ]
     },
     "execution_count": 22,
     "metadata": {},
     "output_type": "execute_result"
    }
   ],
   "source": [
    "lgbm_nemp_model = LGBMClassifier(random_state=0)\n",
    "lgbm_nemp_model.fit(train_nemp[num_features_nemp], target_nemp)\n",
    "lgbm_nemp_pred = lgbm_nemp_model.predict(test_nemp[num_features_nemp])\n",
    "\n",
    "lgbm_nemp_pred_df = pd.DataFrame({'prime_yn':lgbm_nemp_pred}); lgbm_nemp_pred_df"
   ]
  },
  {
   "cell_type": "markdown",
   "id": "4893141c",
   "metadata": {},
   "source": [
    "## RandomForest"
   ]
  },
  {
   "cell_type": "markdown",
   "id": "7119aab7",
   "metadata": {},
   "source": [
    "#### Training"
   ]
  },
  {
   "cell_type": "code",
   "execution_count": 23,
   "id": "98bf119f",
   "metadata": {},
   "outputs": [
    {
     "name": "stdout",
     "output_type": "stream",
     "text": [
      "X_train_nemp의 cross validation 점수 : 0.7596044574920742\n"
     ]
    }
   ],
   "source": [
    "rf_nemp = RandomForestClassifier(random_state=0)\n",
    "skf = StratifiedKFold(n_splits = 5, shuffle = True, random_state = 17)\n",
    "score = cross_val_score(rf_nemp, X_train_nemp[num_features_nemp], y_train_nemp, scoring = 'f1', cv = skf, n_jobs = -1)\n",
    "print(f'X_train_nemp의 cross validation 점수 : {np.mean(score)}')"
   ]
  },
  {
   "cell_type": "markdown",
   "id": "e3670493",
   "metadata": {},
   "source": [
    "#### Validation Score"
   ]
  },
  {
   "cell_type": "code",
   "execution_count": 24,
   "id": "9d43de0d",
   "metadata": {},
   "outputs": [
    {
     "name": "stdout",
     "output_type": "stream",
     "text": [
      "X_val_nemp 예측 점수 : 0.7910030734842135\n"
     ]
    }
   ],
   "source": [
    "rf_nemp.fit(X_train_nemp[num_features_nemp], y_train_nemp)\n",
    "rf_nemp_pred = rf_nemp.predict(X_val_nemp[num_features_nemp])\n",
    "print(f'X_val_nemp 예측 점수 : {f1_score(y_val_nemp, rf_nemp_pred)}')"
   ]
  },
  {
   "cell_type": "markdown",
   "id": "967e2e14",
   "metadata": {},
   "source": [
    "#### Retraining & Prediction"
   ]
  },
  {
   "cell_type": "code",
   "execution_count": 25,
   "id": "903c7e27",
   "metadata": {},
   "outputs": [
    {
     "data": {
      "text/html": [
       "<div>\n",
       "<style scoped>\n",
       "    .dataframe tbody tr th:only-of-type {\n",
       "        vertical-align: middle;\n",
       "    }\n",
       "\n",
       "    .dataframe tbody tr th {\n",
       "        vertical-align: top;\n",
       "    }\n",
       "\n",
       "    .dataframe thead th {\n",
       "        text-align: right;\n",
       "    }\n",
       "</style>\n",
       "<table border=\"1\" class=\"dataframe\">\n",
       "  <thead>\n",
       "    <tr style=\"text-align: right;\">\n",
       "      <th></th>\n",
       "      <th>prime_yn</th>\n",
       "    </tr>\n",
       "  </thead>\n",
       "  <tbody>\n",
       "    <tr>\n",
       "      <th>0</th>\n",
       "      <td>0</td>\n",
       "    </tr>\n",
       "    <tr>\n",
       "      <th>1</th>\n",
       "      <td>0</td>\n",
       "    </tr>\n",
       "    <tr>\n",
       "      <th>2</th>\n",
       "      <td>0</td>\n",
       "    </tr>\n",
       "    <tr>\n",
       "      <th>3</th>\n",
       "      <td>0</td>\n",
       "    </tr>\n",
       "    <tr>\n",
       "      <th>4</th>\n",
       "      <td>0</td>\n",
       "    </tr>\n",
       "    <tr>\n",
       "      <th>...</th>\n",
       "      <td>...</td>\n",
       "    </tr>\n",
       "    <tr>\n",
       "      <th>11609</th>\n",
       "      <td>1</td>\n",
       "    </tr>\n",
       "    <tr>\n",
       "      <th>11610</th>\n",
       "      <td>0</td>\n",
       "    </tr>\n",
       "    <tr>\n",
       "      <th>11611</th>\n",
       "      <td>1</td>\n",
       "    </tr>\n",
       "    <tr>\n",
       "      <th>11612</th>\n",
       "      <td>0</td>\n",
       "    </tr>\n",
       "    <tr>\n",
       "      <th>11613</th>\n",
       "      <td>0</td>\n",
       "    </tr>\n",
       "  </tbody>\n",
       "</table>\n",
       "<p>11614 rows × 1 columns</p>\n",
       "</div>"
      ],
      "text/plain": [
       "       prime_yn\n",
       "0             0\n",
       "1             0\n",
       "2             0\n",
       "3             0\n",
       "4             0\n",
       "...         ...\n",
       "11609         1\n",
       "11610         0\n",
       "11611         1\n",
       "11612         0\n",
       "11613         0\n",
       "\n",
       "[11614 rows x 1 columns]"
      ]
     },
     "execution_count": 25,
     "metadata": {},
     "output_type": "execute_result"
    }
   ],
   "source": [
    "rf_nemp_model = RandomForestClassifier(random_state=0)\n",
    "rf_nemp_model.fit(train_nemp[num_features_nemp], target_nemp)\n",
    "rf_nemp_pred = rf_nemp_model.predict(test_nemp[num_features_nemp])\n",
    "\n",
    "rf_nemp_pred_df = pd.DataFrame({'prime_yn':rf_nemp_pred}); rf_nemp_pred_df"
   ]
  },
  {
   "cell_type": "markdown",
   "id": "6202fff0",
   "metadata": {},
   "source": [
    "# Predict Concat"
   ]
  },
  {
   "cell_type": "code",
   "execution_count": 26,
   "id": "d0fca487",
   "metadata": {},
   "outputs": [],
   "source": [
    "prime_yn = pd.concat([catb_emp_pred_df, catb_nemp_pred_df]).reset_index(drop=True)"
   ]
  },
  {
   "cell_type": "code",
   "execution_count": 27,
   "id": "3df84095",
   "metadata": {},
   "outputs": [],
   "source": [
    "test = pd.read_csv('data/tmk_bda_test.csv').iloc[:,:-1]"
   ]
  },
  {
   "cell_type": "code",
   "execution_count": 28,
   "id": "e902c72f",
   "metadata": {},
   "outputs": [],
   "source": [
    "final_test = pd.concat([test, prime_yn],axis=1)\n",
    "final_test.to_csv('submission/final_test.csv', index=False)"
   ]
  }
 ],
 "metadata": {
  "kernelspec": {
   "display_name": "Python 3 (ipykernel)",
   "language": "python",
   "name": "python3"
  },
  "language_info": {
   "codemirror_mode": {
    "name": "ipython",
    "version": 3
   },
   "file_extension": ".py",
   "mimetype": "text/x-python",
   "name": "python",
   "nbconvert_exporter": "python",
   "pygments_lexer": "ipython3",
   "version": "3.10.9"
  }
 },
 "nbformat": 4,
 "nbformat_minor": 5
}
